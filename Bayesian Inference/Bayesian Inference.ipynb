{
  "nbformat": 4,
  "nbformat_minor": 0,
  "metadata": {
    "colab": {
      "name": "BioVision assign2.ipynb",
      "provenance": [],
      "collapsed_sections": []
    },
    "kernelspec": {
      "name": "python3",
      "display_name": "Python 3"
    },
    "language_info": {
      "name": "python"
    }
  },
  "cells": [
    {
      "cell_type": "code",
      "metadata": {
        "colab": {
          "base_uri": "https://localhost:8080/"
        },
        "id": "5uJ5EdP1H3kY",
        "outputId": "1f196730-fe01-4948-8460-b1bad1950452"
      },
      "source": [
        "#install and import dependencies\n",
        "!pip install pomegranate\n",
        "!apt install libgraphviz-dev\n",
        "!pip install pygraphviz\n",
        "\n",
        "import math\n",
        "from pomegranate import *\n",
        "import matplotlib as plt\n",
        "import pygraphviz as pyg"
      ],
      "execution_count": null,
      "outputs": [
        {
          "output_type": "stream",
          "name": "stdout",
          "text": [
            "Requirement already satisfied: pomegranate in /usr/local/lib/python3.7/dist-packages (0.14.5)\n",
            "Requirement already satisfied: networkx>=2.4 in /usr/local/lib/python3.7/dist-packages (from pomegranate) (2.6.2)\n",
            "Requirement already satisfied: numpy>=1.20.0 in /usr/local/lib/python3.7/dist-packages (from pomegranate) (1.21.2)\n",
            "Requirement already satisfied: scipy>=0.17.0 in /usr/local/lib/python3.7/dist-packages (from pomegranate) (1.4.1)\n",
            "Requirement already satisfied: joblib>=0.9.0b4 in /usr/local/lib/python3.7/dist-packages (from pomegranate) (1.0.1)\n",
            "Requirement already satisfied: pyyaml in /usr/local/lib/python3.7/dist-packages (from pomegranate) (3.13)\n",
            "E: dpkg was interrupted, you must manually run 'dpkg --configure -a' to correct the problem. \n",
            "Collecting pygraphviz\n",
            "  Downloading pygraphviz-1.7.zip (118 kB)\n",
            "\u001b[K     |████████████████████████████████| 118 kB 26.7 MB/s \n",
            "\u001b[?25hBuilding wheels for collected packages: pygraphviz\n",
            "  Building wheel for pygraphviz (setup.py) ... \u001b[?25l\u001b[?25hdone\n",
            "  Created wheel for pygraphviz: filename=pygraphviz-1.7-cp37-cp37m-linux_x86_64.whl size=165748 sha256=780517b461775a7e9c4fb013d8f0ec864f211ddab7b2c10bb3066f9607ccbf58\n",
            "  Stored in directory: /root/.cache/pip/wheels/8c/bc/0c/ac35392b72556e75107ff610cb31b313e8471918a6d280e34c\n",
            "Successfully built pygraphviz\n",
            "Installing collected packages: pygraphviz\n",
            "Successfully installed pygraphviz-1.7\n"
          ]
        }
      ]
    },
    {
      "cell_type": "code",
      "metadata": {
        "colab": {
          "base_uri": "https://localhost:8080/"
        },
        "id": "PtGhJPLXH_Uo",
        "outputId": "b8049188-28e4-4650-e92a-9d742f253fd9"
      },
      "source": [
        "#initializing node variables\n",
        "place = DiscreteDistribution( { 'TamilNadu': 1./2, 'Kashmir': 1./2} )\n",
        "season = DiscreteDistribution( { 'Autumn': 1./2, 'Spring': 1./2} )\n",
        "print(place)\n",
        "print(season)"
      ],
      "execution_count": null,
      "outputs": [
        {
          "output_type": "stream",
          "name": "stdout",
          "text": [
            "{\n",
            "    \"class\" : \"Distribution\",\n",
            "    \"dtype\" : \"str\",\n",
            "    \"name\" : \"DiscreteDistribution\",\n",
            "    \"parameters\" : [\n",
            "        {\n",
            "            \"TamilNadu\" : 0.5,\n",
            "            \"Kashmir\" : 0.5\n",
            "        }\n",
            "    ],\n",
            "    \"frozen\" : false\n",
            "}\n",
            "{\n",
            "    \"class\" : \"Distribution\",\n",
            "    \"dtype\" : \"str\",\n",
            "    \"name\" : \"DiscreteDistribution\",\n",
            "    \"parameters\" : [\n",
            "        {\n",
            "            \"Autumn\" : 0.5,\n",
            "            \"Spring\" : 0.5\n",
            "        }\n",
            "    ],\n",
            "    \"frozen\" : false\n",
            "}\n"
          ]
        }
      ]
    },
    {
      "cell_type": "code",
      "metadata": {
        "colab": {
          "base_uri": "https://localhost:8080/"
        },
        "id": "UaIVMcadJNtB",
        "outputId": "9388ee7a-d4f3-4aa9-82fb-fb972c1b2838"
      },
      "source": [
        "#defining conditional probability tables \n",
        "fruit =ConditionalProbabilityTable(\n",
        "[[ 'TamilNadu', 'Autumn', 'Apple', 0.3 ],\n",
        "[ 'TamilNadu', 'Autumn', 'Banana', 0.7 ],\n",
        "[ 'TamilNadu', 'Spring', 'Apple', 0.1 ],\n",
        "[ 'TamilNadu', 'Spring', 'Banana', 0.9 ],\n",
        "[ 'Kashmir', 'Autumn', 'Apple', 0.8 ],\n",
        "[ 'Kashmir', 'Autumn', 'Banana', 0.2 ],\n",
        "[ 'Kashmir', 'Spring', 'Apple', 0.4 ],\n",
        "[ 'Kashmir', 'Spring', 'Banana', 0.6 ]], [place, season] )\n",
        "\n",
        "color =ConditionalProbabilityTable(\n",
        "[[ 'Apple', 'Red', 0.6 ],\n",
        "[ 'Apple', 'Green', 0.2 ],\n",
        "[ 'Apple', 'Yellow', 0.2 ],\n",
        "[ 'Banana', 'Red', 0.1 ],\n",
        "[ 'Banana', 'Green', 0.4 ],\n",
        "[ 'Banana', 'Yellow', 0.5 ]], [fruit] )\n",
        "\n",
        "shape =ConditionalProbabilityTable(\n",
        "[[ 'Apple', 'Round', 0.8 ],\n",
        "[ 'Apple', 'Long', 0.2 ],\n",
        "[ 'Banana', 'Round', 0.1 ],\n",
        "[ 'Banana', 'Long', 0.9 ]], [fruit] )\n",
        "\n",
        "\n",
        "print(\"fruit CPT\")\n",
        "print(fruit)\n",
        "print()\n",
        "print(\"color CPT\")\n",
        "print(color)\n",
        "print()\n",
        "print(\"shape CPT\")\n",
        "print(shape)\n",
        "print()"
      ],
      "execution_count": null,
      "outputs": [
        {
          "output_type": "stream",
          "name": "stdout",
          "text": [
            "fruit CPT\n",
            "TamilNadu\tAutumn\tApple\t0.3\n",
            "TamilNadu\tAutumn\tBanana\t0.7\n",
            "TamilNadu\tSpring\tApple\t0.10000000000000002\n",
            "TamilNadu\tSpring\tBanana\t0.9\n",
            "Kashmir\tAutumn\tApple\t0.8\n",
            "Kashmir\tAutumn\tBanana\t0.2\n",
            "Kashmir\tSpring\tApple\t0.4\n",
            "Kashmir\tSpring\tBanana\t0.6\n",
            "\n",
            "color CPT\n",
            "Apple\tRed\t0.6\n",
            "Apple\tGreen\t0.2\n",
            "Apple\tYellow\t0.2\n",
            "Banana\tRed\t0.10000000000000002\n",
            "Banana\tGreen\t0.4\n",
            "Banana\tYellow\t0.5\n",
            "\n",
            "shape CPT\n",
            "Apple\tRound\t0.8\n",
            "Apple\tLong\t0.2\n",
            "Banana\tRound\t0.10000000000000002\n",
            "Banana\tLong\t0.9\n",
            "\n"
          ]
        }
      ]
    },
    {
      "cell_type": "code",
      "metadata": {
        "id": "pu8-8nGxSd6m"
      },
      "source": [
        "#defining states in the bayesian model\n",
        "s_place = State( place, name=\"Place\" )\n",
        "s_season = State( season, name=\"Season\" )\n",
        "s_fruit = State( fruit, name=\"Fruit\" )\n",
        "s_color = State( color, name=\"Color\" )\n",
        "s_shape = State( shape, name=\"Shape\" )\n",
        "\n",
        "#model creation\n",
        "model = BayesianNetwork(\"Fruit Characteristics prediction\")\n",
        "\n",
        "# Adding states to the network \n",
        "model.add_states(s_place, s_season, s_fruit,s_color,s_shape)\n",
        "\n",
        "#Adding edges to the network\n",
        "model.add_edge(s_place, s_fruit)\n",
        "model.add_edge(s_season, s_fruit)\n",
        "model.add_edge(s_fruit, s_color)\n",
        "model.add_edge(s_fruit, s_shape)\n",
        "\n",
        "#finalizing the topology\n",
        "model.bake()\n",
        "\n",
        "#model is created\n"
      ],
      "execution_count": null,
      "outputs": []
    },
    {
      "cell_type": "code",
      "metadata": {
        "colab": {
          "base_uri": "https://localhost:8080/",
          "height": 248
        },
        "id": "paKzSk7JidCv",
        "outputId": "c844ed3b-0ad8-4c30-a16b-20be91967830"
      },
      "source": [
        "#visibilizing the model\n",
        "model.plot()"
      ],
      "execution_count": null,
      "outputs": [
        {
          "output_type": "display_data",
          "data": {
            "image/png": "[encoded data removed]",
            "text/plain": [
              "<Figure size 432x288 with 1 Axes>"
            ]
          },
          "metadata": {
            "needs_background": "light"
          }
        }
      ]
    },
    {
      "cell_type": "code",
      "metadata": {
        "id": "e7h-ddewG_PY",
        "colab": {
          "base_uri": "https://localhost:8080/"
        },
        "outputId": "01e22361-2984-4f98-e760-ec3414daed32"
      },
      "source": [
        "#part 1\n",
        "#kashmir and Tamilnadu are equiprobable. Also, Autumn and Spring are equiprobable\n",
        "model.predict_proba([[None,None,None,None,None]])"
      ],
      "execution_count": null,
      "outputs": [
        {
          "output_type": "execute_result",
          "data": {
            "text/plain": [
              "[array([{\n",
              "            \"class\" : \"Distribution\",\n",
              "            \"dtype\" : \"str\",\n",
              "            \"name\" : \"DiscreteDistribution\",\n",
              "            \"parameters\" : [\n",
              "                {\n",
              "                    \"TamilNadu\" : 0.5,\n",
              "                    \"Kashmir\" : 0.5000000000000001\n",
              "                }\n",
              "            ],\n",
              "            \"frozen\" : false\n",
              "        }                                         ,\n",
              "        {\n",
              "            \"class\" : \"Distribution\",\n",
              "            \"dtype\" : \"str\",\n",
              "            \"name\" : \"DiscreteDistribution\",\n",
              "            \"parameters\" : [\n",
              "                {\n",
              "                    \"Autumn\" : 0.5,\n",
              "                    \"Spring\" : 0.5\n",
              "                }\n",
              "            ],\n",
              "            \"frozen\" : false\n",
              "        }                                   ,\n",
              "        {\n",
              "            \"class\" : \"Distribution\",\n",
              "            \"dtype\" : \"str\",\n",
              "            \"name\" : \"DiscreteDistribution\",\n",
              "            \"parameters\" : [\n",
              "                {\n",
              "                    \"Apple\" : 0.4000000000000003,\n",
              "                    \"Banana\" : 0.5999999999999996\n",
              "                }\n",
              "            ],\n",
              "            \"frozen\" : false\n",
              "        }                                        ,\n",
              "        {\n",
              "            \"class\" : \"Distribution\",\n",
              "            \"dtype\" : \"str\",\n",
              "            \"name\" : \"DiscreteDistribution\",\n",
              "            \"parameters\" : [\n",
              "                {\n",
              "                    \"Green\" : 0.32,\n",
              "                    \"Yellow\" : 0.37999999999999995,\n",
              "                    \"Red\" : 0.30000000000000004\n",
              "                }\n",
              "            ],\n",
              "            \"frozen\" : false\n",
              "        }                                          ,\n",
              "        {\n",
              "            \"class\" : \"Distribution\",\n",
              "            \"dtype\" : \"str\",\n",
              "            \"name\" : \"DiscreteDistribution\",\n",
              "            \"parameters\" : [\n",
              "                {\n",
              "                    \"Long\" : 0.6199999999999998,\n",
              "                    \"Round\" : 0.3800000000000003\n",
              "                }\n",
              "            ],\n",
              "            \"frozen\" : false\n",
              "        }                                       ], dtype=object)]"
            ]
          },
          "metadata": {},
          "execution_count": 6
        }
      ]
    },
    {
      "cell_type": "code",
      "metadata": {
        "colab": {
          "base_uri": "https://localhost:8080/"
        },
        "id": "-755KT4uv8MX",
        "outputId": "0ebb670e-b2b7-469a-f027-e6e03cbb9b94"
      },
      "source": [
        "#part2 \n",
        "#assuming the place is kashmir and finding the probabilities for other nodes\n",
        "model.predict_proba([[\"Kashmir\", None, None,None,None]])"
      ],
      "execution_count": null,
      "outputs": [
        {
          "output_type": "execute_result",
          "data": {
            "text/plain": [
              "[array(['Kashmir', {\n",
              "                       \"class\" : \"Distribution\",\n",
              "                       \"dtype\" : \"str\",\n",
              "                       \"name\" : \"DiscreteDistribution\",\n",
              "                       \"parameters\" : [\n",
              "                           {\n",
              "                               \"Autumn\" : 0.5,\n",
              "                               \"Spring\" : 0.4999999999999999\n",
              "                           }\n",
              "                       ],\n",
              "                       \"frozen\" : false\n",
              "                   }                                        ,\n",
              "        {\n",
              "            \"class\" : \"Distribution\",\n",
              "            \"dtype\" : \"str\",\n",
              "            \"name\" : \"DiscreteDistribution\",\n",
              "            \"parameters\" : [\n",
              "                {\n",
              "                    \"Apple\" : 0.5999999999999999,\n",
              "                    \"Banana\" : 0.4000000000000001\n",
              "                }\n",
              "            ],\n",
              "            \"frozen\" : false\n",
              "        }                                        ,\n",
              "        {\n",
              "            \"class\" : \"Distribution\",\n",
              "            \"dtype\" : \"str\",\n",
              "            \"name\" : \"DiscreteDistribution\",\n",
              "            \"parameters\" : [\n",
              "                {\n",
              "                    \"Green\" : 0.2800000000000001,\n",
              "                    \"Yellow\" : 0.32,\n",
              "                    \"Red\" : 0.3999999999999999\n",
              "                }\n",
              "            ],\n",
              "            \"frozen\" : false\n",
              "        }                                        ,\n",
              "        {\n",
              "            \"class\" : \"Distribution\",\n",
              "            \"dtype\" : \"str\",\n",
              "            \"name\" : \"DiscreteDistribution\",\n",
              "            \"parameters\" : [\n",
              "                {\n",
              "                    \"Long\" : 0.4799999999999999,\n",
              "                    \"Round\" : 0.52\n",
              "                }\n",
              "            ],\n",
              "            \"frozen\" : false\n",
              "        }                                       ], dtype=object)]"
            ]
          },
          "metadata": {},
          "execution_count": 7
        }
      ]
    },
    {
      "cell_type": "code",
      "metadata": {
        "colab": {
          "base_uri": "https://localhost:8080/"
        },
        "id": "9CW6drt3hTqD",
        "outputId": "082530bb-d95d-4c90-d22d-0848988fb3eb"
      },
      "source": [
        "#part5\n",
        "#assuming the place is kashmir and color is Yellow then finding the probabilities for other nodes\n",
        "model.predict_proba([[\"Kashmir\", None, None,\"Yellow\",\"Round\"]])"
      ],
      "execution_count": null,
      "outputs": [
        {
          "output_type": "execute_result",
          "data": {
            "text/plain": [
              "[array(['Kashmir', {\n",
              "                       \"class\" : \"Distribution\",\n",
              "                       \"dtype\" : \"str\",\n",
              "                       \"name\" : \"DiscreteDistribution\",\n",
              "                       \"parameters\" : [\n",
              "                           {\n",
              "                               \"Autumn\" : 0.5948275862068964,\n",
              "                               \"Spring\" : 0.40517241379310365\n",
              "                           }\n",
              "                       ],\n",
              "                       \"frozen\" : false\n",
              "                   }                                         ,\n",
              "        {\n",
              "            \"class\" : \"Distribution\",\n",
              "            \"dtype\" : \"str\",\n",
              "            \"name\" : \"DiscreteDistribution\",\n",
              "            \"parameters\" : [\n",
              "                {\n",
              "                    \"Apple\" : 0.8275862068965515,\n",
              "                    \"Banana\" : 0.1724137931034485\n",
              "                }\n",
              "            ],\n",
              "            \"frozen\" : false\n",
              "        }                                        , 'Yellow', 'Round'],\n",
              "       dtype=object)]"
            ]
          },
          "metadata": {},
          "execution_count": 9
        }
      ]
    }
  ]
}